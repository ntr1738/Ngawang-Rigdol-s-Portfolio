{
  "nbformat": 4,
  "nbformat_minor": 0,
  "metadata": {
    "colab": {
      "provenance": [],
      "collapsed_sections": [
        "d0uMlbxrQnom",
        "7xUl_yi0RJB9",
        "h4NW3cZ9SOKB",
        "zuNyXFv6Scuh",
        "YO5m13jQTCb_",
        "iGOWNhGmTN7l",
        "slcvbXS2U2Gp",
        "uAAcWgppT575",
        "nRYyCZDmU4X_"
      ],
      "include_colab_link": true
    },
    "kernelspec": {
      "name": "python3",
      "display_name": "Python 3"
    },
    "language_info": {
      "name": "python"
    }
  },
  "cells": [
    {
      "cell_type": "markdown",
      "metadata": {
        "id": "view-in-github",
        "colab_type": "text"
      },
      "source": [
        "<a href=\"https://colab.research.google.com/github/ntr1738/Ngawang-Rigdol-s-Portfolio/blob/main/Copy_of_QSI_Day_4_STUDENT.ipynb\" target=\"_parent\"><img src=\"https://colab.research.google.com/assets/colab-badge.svg\" alt=\"Open In Colab\"/></a>"
      ]
    },
    {
      "cell_type": "markdown",
      "source": [
        "# **Lab 8: Multi-Qubit Circuits and Entanglement**\n",
        "---\n",
        "\n",
        "### **Description**\n",
        "In today's lab, you will learn how to create and work with multi-qubit circuits. We will begin by reviewing how to build quantum circuits and apply quantum gates to those circuit. Next, we will begin creating and working with multi-qubit circuits. Then, we will use those circuits to create entanglement between qubits. Finally, we will represent the final states of qubits using histograms.\n",
        "\n",
        "<br>\n",
        "\n",
        "### **Lab Structure**\n",
        "**Part 1**: [Creating Multi-Qubit Circuits](#p1)\n",
        "\n",
        "**Part 2**: [Creating Entanglement with CNOT](#p2)\n",
        "\n",
        "**Part 3**: [Working with Histograms](#p3)\n",
        "\n",
        "**Part 4**: [Additional Practice [OPTIONAL]](#p4)\n",
        "\n",
        "<br>\n",
        "\n",
        "\n",
        "### **Learning Objectives**\n",
        "By the end of this lab, we will:\n",
        "1. Recognize how to implement multi-qubit circuits, including the CNOT gate, in Cirq.\n",
        "2. Recognize how to simulate and interpret measurement results in Cirq.\n",
        "\n",
        "<br>\n",
        "\n",
        "###**Resources**\n",
        "* [Cirq Basics Cheat Sheet](https://docs.google.com/document/d/1j0vEwtS6fK-tD1DWAPry4tJdxEiq8fwMtXuYNGRhK_M/edit?usp=drive_link)\n",
        "\n",
        "<br>\n",
        "\n",
        "\n",
        "**Before starting, run the code below to import all necessary functions and libraries.**\n"
      ],
      "metadata": {
        "id": "_YmOYBzITIna"
      }
    },
    {
      "cell_type": "code",
      "source": [
        "# @title\n",
        "!pip install cirq --quiet\n",
        "import cirq\n",
        "import cirq_web\n",
        "import numpy as np\n",
        "import cirq_web.bloch_sphere as bloch_sphere\n",
        "import matplotlib.pyplot as plt\n",
        "def binary_labels(num_qubits):\n",
        "    return [bin(x)[2:].zfill(num_qubits) for x in range(2 ** num_qubits)]\n",
        "print(\"Libraries imported successfully!\")"
      ],
      "metadata": {
        "colab": {
          "base_uri": "https://localhost:8080/"
        },
        "id": "hDb4kAe2rQUu",
        "outputId": "e0a05b4c-d9da-4b0b-8550-f130d7e868f9"
      },
      "execution_count": 1,
      "outputs": [
        {
          "output_type": "stream",
          "name": "stdout",
          "text": [
            "\u001b[?25l   \u001b[90m━━━━━━━━━━━━━━━━━━━━━━━━━━━━━━━━━━━━━━━━\u001b[0m \u001b[32m0.0/2.0 MB\u001b[0m \u001b[31m?\u001b[0m eta \u001b[36m-:--:--\u001b[0m\r\u001b[2K   \u001b[91m━━━━━━━━\u001b[0m\u001b[91m╸\u001b[0m\u001b[90m━━━━━━━━━━━━━━━━━━━━━━━━━━━━━━━\u001b[0m \u001b[32m0.4/2.0 MB\u001b[0m \u001b[31m13.6 MB/s\u001b[0m eta \u001b[36m0:00:01\u001b[0m\r\u001b[2K   \u001b[91m━━━━━━━━━━━━━━━━━━━━━━━━━━━━━━━━━━━━━━━\u001b[0m\u001b[91m╸\u001b[0m \u001b[32m2.0/2.0 MB\u001b[0m \u001b[31m33.9 MB/s\u001b[0m eta \u001b[36m0:00:01\u001b[0m\r\u001b[2K   \u001b[90m━━━━━━━━━━━━━━━━━━━━━━━━━━━━━━━━━━━━━━━━\u001b[0m \u001b[32m2.0/2.0 MB\u001b[0m \u001b[31m22.0 MB/s\u001b[0m eta \u001b[36m0:00:00\u001b[0m\n",
            "\u001b[?25h\u001b[?25l   \u001b[90m━━━━━━━━━━━━━━━━━━━━━━━━━━━━━━━━━━━━━━━━\u001b[0m \u001b[32m0.0/597.5 kB\u001b[0m \u001b[31m?\u001b[0m eta \u001b[36m-:--:--\u001b[0m\r\u001b[2K   \u001b[91m━━━━━━━━━━━━━━━━━━━━━━━━━━━━━━━━━━━━━━━\u001b[0m\u001b[91m╸\u001b[0m \u001b[32m593.9/597.5 kB\u001b[0m \u001b[31m55.2 MB/s\u001b[0m eta \u001b[36m0:00:01\u001b[0m\r\u001b[2K   \u001b[90m━━━━━━━━━━━━━━━━━━━━━━━━━━━━━━━━━━━━━━━━\u001b[0m \u001b[32m597.5/597.5 kB\u001b[0m \u001b[31m16.9 MB/s\u001b[0m eta \u001b[36m0:00:00\u001b[0m\n",
            "\u001b[2K   \u001b[90m━━━━━━━━━━━━━━━━━━━━━━━━━━━━━━━━━━━━━━━━\u001b[0m \u001b[32m72.0/72.0 kB\u001b[0m \u001b[31m2.3 MB/s\u001b[0m eta \u001b[36m0:00:00\u001b[0m\n",
            "\u001b[2K   \u001b[90m━━━━━━━━━━━━━━━━━━━━━━━━━━━━━━━━━━━━━━━━\u001b[0m \u001b[32m425.1/425.1 kB\u001b[0m \u001b[31m4.8 MB/s\u001b[0m eta \u001b[36m0:00:00\u001b[0m\n",
            "\u001b[2K   \u001b[90m━━━━━━━━━━━━━━━━━━━━━━━━━━━━━━━━━━━━━━━━\u001b[0m \u001b[32m2.8/2.8 MB\u001b[0m \u001b[31m42.7 MB/s\u001b[0m eta \u001b[36m0:00:00\u001b[0m\n",
            "\u001b[?25hLibraries imported successfully!\n"
          ]
        }
      ]
    },
    {
      "cell_type": "markdown",
      "source": [
        "<a name=\"p1\"></a>\n",
        "\n",
        "---\n",
        "## **Part 1: Creating Multi-Qubit Circuits**\n",
        "---"
      ],
      "metadata": {
        "id": "8GlGEK2BbRbx"
      }
    },
    {
      "cell_type": "markdown",
      "source": [
        "### **Problem #1.1**\n",
        "\n",
        "**Together,** create 3 qubits using the `range()` method. Output your qubits."
      ],
      "metadata": {
        "id": "tormQKNz6HLQ"
      }
    },
    {
      "cell_type": "code",
      "source": [
        "my_qubits = cirq.NamedQubit.range(3, prefix = 'q')"
      ],
      "metadata": {
        "id": "Ws-kMrtAjQmw"
      },
      "execution_count": 2,
      "outputs": []
    },
    {
      "cell_type": "markdown",
      "source": [
        "###**Problem #1.2**\n",
        "**Together**, add a fourth qubit to the list below. Output your new list."
      ],
      "metadata": {
        "id": "kfEwNvD46b3R"
      }
    },
    {
      "cell_type": "code",
      "source": [
        "my_qubits = cirq.NamedQubit.range( 3, prefix = \"q\")\n",
        "my_qubits.append(cirq.NamedQubit('q4'))"
      ],
      "metadata": {
        "id": "2jpRpwQ5jcIF"
      },
      "execution_count": 3,
      "outputs": []
    },
    {
      "cell_type": "markdown",
      "source": [
        "###**Problem #1.3**\n",
        "**Together**, using the `range()` method, create 4 qubits."
      ],
      "metadata": {
        "id": "z4lApfzh7MPf"
      }
    },
    {
      "cell_type": "code",
      "source": [
        "my_qubits = cirq.NamedQubit.range(4, prefix = 'q')"
      ],
      "metadata": {
        "id": "j6InE7k8jj15"
      },
      "execution_count": 4,
      "outputs": []
    },
    {
      "cell_type": "markdown",
      "source": [
        "###**Problem #1.4**\n",
        "**Together,** create 100 qubits."
      ],
      "metadata": {
        "id": "ivXm2mtu6uoQ"
      }
    },
    {
      "cell_type": "code",
      "source": [
        "my_qubits = cirq.NamedQubit.range(100, prefix = 'q')\n",
        "print(my_qubits)"
      ],
      "metadata": {
        "id": "vZ0U1_x7jolU",
        "outputId": "734baa3d-4b34-450d-ddf8-875777205dfe",
        "colab": {
          "base_uri": "https://localhost:8080/"
        }
      },
      "execution_count": 6,
      "outputs": [
        {
          "output_type": "stream",
          "name": "stdout",
          "text": [
            "[cirq.NamedQubit('q0'), cirq.NamedQubit('q1'), cirq.NamedQubit('q2'), cirq.NamedQubit('q3'), cirq.NamedQubit('q4'), cirq.NamedQubit('q5'), cirq.NamedQubit('q6'), cirq.NamedQubit('q7'), cirq.NamedQubit('q8'), cirq.NamedQubit('q9'), cirq.NamedQubit('q10'), cirq.NamedQubit('q11'), cirq.NamedQubit('q12'), cirq.NamedQubit('q13'), cirq.NamedQubit('q14'), cirq.NamedQubit('q15'), cirq.NamedQubit('q16'), cirq.NamedQubit('q17'), cirq.NamedQubit('q18'), cirq.NamedQubit('q19'), cirq.NamedQubit('q20'), cirq.NamedQubit('q21'), cirq.NamedQubit('q22'), cirq.NamedQubit('q23'), cirq.NamedQubit('q24'), cirq.NamedQubit('q25'), cirq.NamedQubit('q26'), cirq.NamedQubit('q27'), cirq.NamedQubit('q28'), cirq.NamedQubit('q29'), cirq.NamedQubit('q30'), cirq.NamedQubit('q31'), cirq.NamedQubit('q32'), cirq.NamedQubit('q33'), cirq.NamedQubit('q34'), cirq.NamedQubit('q35'), cirq.NamedQubit('q36'), cirq.NamedQubit('q37'), cirq.NamedQubit('q38'), cirq.NamedQubit('q39'), cirq.NamedQubit('q40'), cirq.NamedQubit('q41'), cirq.NamedQubit('q42'), cirq.NamedQubit('q43'), cirq.NamedQubit('q44'), cirq.NamedQubit('q45'), cirq.NamedQubit('q46'), cirq.NamedQubit('q47'), cirq.NamedQubit('q48'), cirq.NamedQubit('q49'), cirq.NamedQubit('q50'), cirq.NamedQubit('q51'), cirq.NamedQubit('q52'), cirq.NamedQubit('q53'), cirq.NamedQubit('q54'), cirq.NamedQubit('q55'), cirq.NamedQubit('q56'), cirq.NamedQubit('q57'), cirq.NamedQubit('q58'), cirq.NamedQubit('q59'), cirq.NamedQubit('q60'), cirq.NamedQubit('q61'), cirq.NamedQubit('q62'), cirq.NamedQubit('q63'), cirq.NamedQubit('q64'), cirq.NamedQubit('q65'), cirq.NamedQubit('q66'), cirq.NamedQubit('q67'), cirq.NamedQubit('q68'), cirq.NamedQubit('q69'), cirq.NamedQubit('q70'), cirq.NamedQubit('q71'), cirq.NamedQubit('q72'), cirq.NamedQubit('q73'), cirq.NamedQubit('q74'), cirq.NamedQubit('q75'), cirq.NamedQubit('q76'), cirq.NamedQubit('q77'), cirq.NamedQubit('q78'), cirq.NamedQubit('q79'), cirq.NamedQubit('q80'), cirq.NamedQubit('q81'), cirq.NamedQubit('q82'), cirq.NamedQubit('q83'), cirq.NamedQubit('q84'), cirq.NamedQubit('q85'), cirq.NamedQubit('q86'), cirq.NamedQubit('q87'), cirq.NamedQubit('q88'), cirq.NamedQubit('q89'), cirq.NamedQubit('q90'), cirq.NamedQubit('q91'), cirq.NamedQubit('q92'), cirq.NamedQubit('q93'), cirq.NamedQubit('q94'), cirq.NamedQubit('q95'), cirq.NamedQubit('q96'), cirq.NamedQubit('q97'), cirq.NamedQubit('q98'), cirq.NamedQubit('q99')]\n"
          ]
        }
      ]
    },
    {
      "cell_type": "markdown",
      "source": [
        "###**Problem #1.5**\n",
        "**Together**, create 3 qubits. Add a measurement to the first qubit. Output your circuit."
      ],
      "metadata": {
        "id": "K-opUSfj908f"
      }
    },
    {
      "cell_type": "code",
      "source": [
        "my_qubits = cirq.NamedQubit.range(3, prefix = 'q')\n",
        "my_circuit = cirq.Circuit()\n",
        "my_circuit.append(cirq.measure(my_qubits[0]))\n",
        "print(my_circuit)"
      ],
      "metadata": {
        "id": "SoLFw4dDk4e8",
        "outputId": "8417d992-d0da-4719-b272-5fbf9edd3b74",
        "colab": {
          "base_uri": "https://localhost:8080/"
        }
      },
      "execution_count": 10,
      "outputs": [
        {
          "output_type": "stream",
          "name": "stdout",
          "text": [
            "q0: ───M───\n"
          ]
        }
      ]
    },
    {
      "cell_type": "markdown",
      "source": [
        "###**Problem #1.6**\n",
        "**Together**, create 5 qubits. Add a measurement to each qubit. Output your circuit."
      ],
      "metadata": {
        "id": "ZMwT-NGZ-TrO"
      }
    },
    {
      "cell_type": "code",
      "source": [
        "my_qubits = cirq.NamedQubit.range(5, prefix = 'q')\n",
        "my_circuit = cirq.Circuit()\n",
        "my_circuit.append(cirq.measure(my_qubits))\n",
        "print(my_circuit)"
      ],
      "metadata": {
        "id": "Mtf6DEVok7ry",
        "outputId": "d2127260-3fc0-46f7-f24c-c5ed4ec5d4ab",
        "colab": {
          "base_uri": "https://localhost:8080/"
        }
      },
      "execution_count": 19,
      "outputs": [
        {
          "output_type": "stream",
          "name": "stdout",
          "text": [
            "q0: ───M───\n",
            "       │\n",
            "q1: ───M───\n",
            "       │\n",
            "q2: ───M───\n",
            "       │\n",
            "q3: ───M───\n",
            "       │\n",
            "q4: ───M───\n"
          ]
        }
      ]
    },
    {
      "cell_type": "markdown",
      "source": [
        "###**Problem #1.7**\n",
        "**Independently**, create 5 qubits. Add an H gate to the the last qubit. Output your circuit."
      ],
      "metadata": {
        "id": "KWBaJeKr-0hG"
      }
    },
    {
      "cell_type": "code",
      "source": [
        "my_qubits = cirq.NamedQubit.range(5, prefix = 'q')\n",
        "my_circuit = cirq.Circuit()\n",
        "my_circuit.append(cirq.H(my_qubits[4]))\n",
        "print(my_circuit)"
      ],
      "metadata": {
        "id": "PddQJFdT6R2i",
        "outputId": "961ae73e-f72a-4498-b628-531c4e671f36",
        "colab": {
          "base_uri": "https://localhost:8080/"
        }
      },
      "execution_count": 17,
      "outputs": [
        {
          "output_type": "stream",
          "name": "stdout",
          "text": [
            "q4: ───H───\n"
          ]
        }
      ]
    },
    {
      "cell_type": "markdown",
      "source": [
        "###**Problem #1.8**\n",
        "**Independently**, create 5 qubits. Add an X gate to each of them. Output your circuit."
      ],
      "metadata": {
        "id": "C33csuiy_Emb"
      }
    },
    {
      "cell_type": "code",
      "source": [
        "my_qubits = cirq.NamedQubit.range(5, prefix = 'q')\n",
        "my_circuit = cirq.Circuit()\n",
        "my_circuit.append(cirq.X.on_each(my_qubits))\n",
        "print(my_circuit)"
      ],
      "metadata": {
        "id": "pG_uI8_YlDXi",
        "outputId": "f60d6d93-daeb-476c-9831-ce39e6e34554",
        "colab": {
          "base_uri": "https://localhost:8080/"
        }
      },
      "execution_count": 29,
      "outputs": [
        {
          "output_type": "stream",
          "name": "stdout",
          "text": [
            "q0: ───X───\n",
            "\n",
            "q1: ───X───\n",
            "\n",
            "q2: ───X───\n",
            "\n",
            "q3: ───X───\n",
            "\n",
            "q4: ───X───\n"
          ]
        }
      ]
    },
    {
      "cell_type": "markdown",
      "source": [
        "###**Problem #1.9**\n",
        "**Independently**, create 3 qubits. Add an X gate to the first, a Z gate to the second, and an H gate to the last. Add a measurement to each of them. Output your circuit."
      ],
      "metadata": {
        "id": "MVO7uY7t_uad"
      }
    },
    {
      "cell_type": "code",
      "source": [
        "my_qubits = cirq.NamedQubit.range(3, prefix = 'q')\n",
        "my_circuit = cirq.Circuit()\n",
        "my_circuit.append(cirq.X(my_qubits[0]))\n",
        "my_circuit.append(cirq.Z(my_qubits[1]))\n",
        "my_circuit.append(cirq.H(my_qubits[2]))\n",
        "my_circuit.append(cirq.measure(my_qubits))\n",
        "print(my_circuit)\n",
        "\n",
        "\n"
      ],
      "metadata": {
        "id": "YmQjDB0WlIQa",
        "outputId": "093e0d2e-8ead-432f-8957-eea88863bc95",
        "colab": {
          "base_uri": "https://localhost:8080/"
        }
      },
      "execution_count": 48,
      "outputs": [
        {
          "output_type": "stream",
          "name": "stdout",
          "text": [
            "q0: ───X───M───\n",
            "           │\n",
            "q1: ───Z───M───\n",
            "           │\n",
            "q2: ───H───M───\n"
          ]
        }
      ]
    },
    {
      "cell_type": "markdown",
      "source": [
        "###**Problem #1.10**\n",
        "**Independently**, create 5 qubits. Add an H gate to each of them. Add a measurement to the first of them. Add an X gate to the second qubit. Add a Z gate to the last. Add a measurement to the last two qubits."
      ],
      "metadata": {
        "id": "3aiugiFTAfSz"
      }
    },
    {
      "cell_type": "code",
      "source": [
        "my_qubits = cirq.NamedQubit.range(5, prefix = 'q')\n",
        "my_circuit = cirq.Circuit()\n",
        "my_circuit.append(cirq.H.on_each(my_qubits))\n",
        "my_circuit.append(cirq.measure(my_qubits[0]))\n",
        "my_circuit.append(cirq.X(my_qubits[1]))\n",
        "my_circuit.append(cirq.Z(my_qubits[4]))\n",
        "my_circuit.append(cirq.measure(my_qubits[4]))\n",
        "my_circuit.append(cirq.measure(my_qubits[3]))\n",
        "print(my_circuit)"
      ],
      "metadata": {
        "id": "QYImBqAolcRt",
        "outputId": "15aa0899-3ac7-4a30-8221-3ee64638a56b",
        "colab": {
          "base_uri": "https://localhost:8080/"
        }
      },
      "execution_count": 33,
      "outputs": [
        {
          "output_type": "stream",
          "name": "stdout",
          "text": [
            "q0: ───H───M───────\n",
            "\n",
            "q1: ───H───X───────\n",
            "\n",
            "q2: ───H───────────\n",
            "\n",
            "q3: ───H───M───────\n",
            "\n",
            "q4: ───H───Z───M───\n"
          ]
        }
      ]
    },
    {
      "cell_type": "markdown",
      "source": [
        "<a name=\"p3\"></a>\n",
        "\n",
        "---\n",
        "## **Part 2: Creating Entanglement with CNOT**\n",
        "---\n"
      ],
      "metadata": {
        "id": "nx4dYh7-bjfu"
      }
    },
    {
      "cell_type": "markdown",
      "source": [
        "###**Problem #2.1**\n",
        "**Together**, create two qubits. Create a circuit and add a CNOT gate such the the first qubit is the control and the second is the target. Output your circuit. Print out the ket representation of your circuit's final state."
      ],
      "metadata": {
        "id": "m1R6_DnvC7XS"
      }
    },
    {
      "cell_type": "code",
      "source": [
        "my_qubits = cirq.NamedQubit.range(2, prefix = 'q')\n",
        "my_circuit = cirq.Circuit()\n",
        "my_circuit.append(cirq.CNOT(my_qubits[0],my_qubits[1]))\n",
        "print(my_circuit)"
      ],
      "metadata": {
        "id": "ihDsThOJmyw3",
        "outputId": "0834e107-dc0e-434e-d4db-ec4dc6670cac",
        "colab": {
          "base_uri": "https://localhost:8080/"
        }
      },
      "execution_count": 50,
      "outputs": [
        {
          "output_type": "stream",
          "name": "stdout",
          "text": [
            "q0: ───@───\n",
            "       │\n",
            "q1: ───X───\n"
          ]
        }
      ]
    },
    {
      "cell_type": "code",
      "source": [
        "state_vector = cirq.final_state_vector(my_circuit)\n",
        "ket = cirq.dirac_notation( state_vector=state_vector )\n",
        "print(ket)"
      ],
      "metadata": {
        "colab": {
          "base_uri": "https://localhost:8080/"
        },
        "id": "-Gu1bOlUDr0r",
        "outputId": "0161d0ba-f2f6-4c75-e542-6be4a2652282"
      },
      "execution_count": 51,
      "outputs": [
        {
          "output_type": "stream",
          "name": "stdout",
          "text": [
            "|00⟩\n"
          ]
        }
      ]
    },
    {
      "cell_type": "markdown",
      "source": [
        "###**Problem #2.2**\n",
        "**Together**, create two qubits. Create a circuit and add an H gate to the first qubit. Add a CNOT gate such the the first qubit is the control and the second is the target. Output your circuit. Print out the ket representation of your circuit's final state."
      ],
      "metadata": {
        "id": "4R6Ppc_NFANP"
      }
    },
    {
      "cell_type": "code",
      "source": [
        "my_qubits = cirq.NamedQubit.range(2, prefix = 'q')\n",
        "my_circuit = cirq.Circuit()\n",
        "my_circuit.append(cirq.H(my_qubits[0]))\n",
        "my_circuit.append(cirq.CNOT(my_qubits[0],my_qubits[1]))\n",
        "print(my_circuit)"
      ],
      "metadata": {
        "id": "XhVtr8kQm5Ac",
        "outputId": "7fc1036d-21e5-4b5e-a4b6-9400a4d1870a",
        "colab": {
          "base_uri": "https://localhost:8080/"
        }
      },
      "execution_count": 53,
      "outputs": [
        {
          "output_type": "stream",
          "name": "stdout",
          "text": [
            "q0: ───H───@───\n",
            "           │\n",
            "q1: ───────X───\n"
          ]
        }
      ]
    },
    {
      "cell_type": "code",
      "source": [
        "state_vector = cirq.final_state_vector(my_circuit)\n",
        "ket = cirq.dirac_notation( state_vector=state_vector )\n",
        "print(ket)"
      ],
      "metadata": {
        "colab": {
          "base_uri": "https://localhost:8080/"
        },
        "id": "zskftvLlFji4",
        "outputId": "7a767600-8444-4b55-989e-5b6538bcf108"
      },
      "execution_count": 55,
      "outputs": [
        {
          "output_type": "stream",
          "name": "stdout",
          "text": [
            "0.71|00⟩ + 0.71|11⟩\n"
          ]
        }
      ]
    },
    {
      "cell_type": "markdown",
      "source": [
        "###**Problem #2.3**\n",
        "**Independently**, Modify the circuit in Problem 2.2 to create a new entangled state by adding an initial X gate to one of the qubits. Output your circuit. Print out the ket representation of your circuit's final state."
      ],
      "metadata": {
        "id": "pkDKzAxB6YK2"
      }
    },
    {
      "cell_type": "code",
      "source": [
        "my_qubits = cirq.NamedQubit.range(2, prefix = 'q')\n",
        "my_circuit = cirq.Circuit()\n",
        "my_circuit.append(cirq.X(my_qubits[0]))\n",
        "my_circuit.append(cirq.H(my_qubits[0]))\n",
        "my_circuit.append(cirq.CNOT(my_qubits[0],my_qubits[1]))\n",
        "print(my_circuit)"
      ],
      "metadata": {
        "id": "fNzc81Ok7RG8",
        "outputId": "dad48efa-8e71-4374-941f-15b1f7d5c712",
        "colab": {
          "base_uri": "https://localhost:8080/"
        }
      },
      "execution_count": 57,
      "outputs": [
        {
          "output_type": "stream",
          "name": "stdout",
          "text": [
            "q0: ───X───H───@───\n",
            "               │\n",
            "q1: ───────────X───\n"
          ]
        }
      ]
    },
    {
      "cell_type": "code",
      "source": [
        "state_vector = cirq.final_state_vector(my_circuit)\n",
        "ket = cirq.dirac_notation( state_vector=state_vector )\n",
        "print(ket)"
      ],
      "metadata": {
        "colab": {
          "base_uri": "https://localhost:8080/"
        },
        "id": "Aae4MKej7oTO",
        "outputId": "9d456148-9ce3-4127-ef32-56f3d080e0fc"
      },
      "execution_count": 60,
      "outputs": [
        {
          "output_type": "stream",
          "name": "stdout",
          "text": [
            "0.71|00⟩ - 0.71|11⟩\n"
          ]
        }
      ]
    },
    {
      "cell_type": "markdown",
      "source": [
        "###**Problem #2.4**\n",
        "**Independently**, add measurements to each of your qubits from your circuit in Problem #2.2. Simulate the results of your circuit. Output the results."
      ],
      "metadata": {
        "id": "W5-7Z0jlFnSu"
      }
    },
    {
      "cell_type": "code",
      "source": [
        "my_qubits = cirq.NamedQubit.range(2, prefix = 'q')\n",
        "my_circuit = cirq.Circuit()\n",
        "my_circuit.append(cirq.H(my_qubits[0]))\n",
        "my_circuit.append(cirq.CNOT(my_qubits[0],my_qubits[1]))\n",
        "my_circuit.append(cirq.measure(my_qubits))\n",
        "print(my_circuit)"
      ],
      "metadata": {
        "id": "_mafOYzcm8aW",
        "outputId": "e745f2ab-c4d0-48f1-c20b-d025575bd47f",
        "colab": {
          "base_uri": "https://localhost:8080/"
        }
      },
      "execution_count": 70,
      "outputs": [
        {
          "output_type": "stream",
          "name": "stdout",
          "text": [
            "q0: ───H───@───M───\n",
            "           │   │\n",
            "q1: ───────X───M───\n"
          ]
        }
      ]
    },
    {
      "cell_type": "markdown",
      "source": [
        "###**Problem #2.5**\n",
        "**Independently**, simulate the results from the circuit in Problem #2.3 10 times."
      ],
      "metadata": {
        "id": "kLs1ZDokGLK4"
      }
    },
    {
      "cell_type": "code",
      "source": [
        "sim = cirq.Simulator()\n",
        "results = sim.run(my_circuit, repetitions = 10)\n",
        "print(results)"
      ],
      "metadata": {
        "id": "qRwEkHk7nAwa",
        "outputId": "22d67b9c-7158-4efb-e6ef-7b72b0b17219",
        "colab": {
          "base_uri": "https://localhost:8080/"
        }
      },
      "execution_count": 72,
      "outputs": [
        {
          "output_type": "stream",
          "name": "stdout",
          "text": [
            "q0,q1=0110011101, 0110011101\n"
          ]
        }
      ]
    },
    {
      "cell_type": "markdown",
      "source": [
        "###**Problem #2.6**\n",
        "**Independently**, create two qubits. Create a circuit and add an X gate to the first qubit. Add a CNOT gate such the the first qubit is the control and the second is the target. Output your circuit. Print out the ket representation of your circuit's final state."
      ],
      "metadata": {
        "id": "7kgP2kvBIA0b"
      }
    },
    {
      "cell_type": "code",
      "source": [
        "my_qubits = cirq.NamedQubit.range(2, prefix = 'q')\n",
        "my_circuit = cirq.Circuit()\n",
        "my_circuit.append(cirq.X(my_qubits[0]))\n",
        "my_circuit.append(cirq.CNOT(my_qubits[0],my_qubits[1]))\n",
        "\n",
        "print(my_circuit)"
      ],
      "metadata": {
        "id": "Ke9if7KjnG60",
        "outputId": "ab93d495-8f7e-4184-e91d-93755d6e56d1",
        "colab": {
          "base_uri": "https://localhost:8080/"
        }
      },
      "execution_count": 73,
      "outputs": [
        {
          "output_type": "stream",
          "name": "stdout",
          "text": [
            "q0: ───X───@───\n",
            "           │\n",
            "q1: ───────X───\n"
          ]
        }
      ]
    },
    {
      "cell_type": "code",
      "source": [
        "state_vector = cirq.final_state_vector(my_circuit)\n",
        "ket = cirq.dirac_notation( state_vector=state_vector )\n",
        "print(ket)"
      ],
      "metadata": {
        "colab": {
          "base_uri": "https://localhost:8080/"
        },
        "id": "D-88xUK4IWPU",
        "outputId": "5115881c-62ea-4ef8-c5ee-db9d4838bb07"
      },
      "execution_count": 77,
      "outputs": [
        {
          "output_type": "stream",
          "name": "stdout",
          "text": [
            "|11⟩\n"
          ]
        }
      ]
    },
    {
      "cell_type": "markdown",
      "source": [],
      "metadata": {
        "id": "CF4_fmvO6T1b"
      }
    },
    {
      "cell_type": "markdown",
      "source": [
        "<a name=\"p4\"></a>\n",
        "\n",
        "---\n",
        "## **Part 3: Working with Histograms**\n",
        "---\n"
      ],
      "metadata": {
        "id": "0pzH5UPkbq_2"
      }
    },
    {
      "cell_type": "markdown",
      "source": [
        "###**Problem #3.1**\n",
        "**Together**, create 3 qubits. Append those qubits to a circuit with a measurement. Simulate the results of your circuit 10 times. Then, create a histogram of the final states of the qubits."
      ],
      "metadata": {
        "id": "9p8a-boRO908"
      }
    },
    {
      "cell_type": "code",
      "source": [
        "my_qubits = cirq.NamedQubit.range(3, prefix = 'q')\n",
        "my_circuit = cirq.Circuit()\n",
        "my_circuit.append(cirq.measure(my_qubits))\n",
        "print(my_circuit)"
      ],
      "metadata": {
        "id": "KrPf_Yd5nSAS",
        "outputId": "fe1157eb-c14a-4b95-eaf9-e465506a47a4",
        "colab": {
          "base_uri": "https://localhost:8080/"
        }
      },
      "execution_count": 80,
      "outputs": [
        {
          "output_type": "stream",
          "name": "stdout",
          "text": [
            "q0: ───M───\n",
            "       │\n",
            "q1: ───M───\n",
            "       │\n",
            "q2: ───M───\n"
          ]
        }
      ]
    },
    {
      "cell_type": "code",
      "source": [
        "sim = cirq.Simulator()\n",
        "results = sim.run(my_circuit, repetitions = 10)\n",
        "print(results)"
      ],
      "metadata": {
        "id": "CdyKLbrJnR5k",
        "outputId": "030e7cee-31a9-4b6e-dedf-7f1551e74692",
        "colab": {
          "base_uri": "https://localhost:8080/"
        }
      },
      "execution_count": 85,
      "outputs": [
        {
          "output_type": "stream",
          "name": "stdout",
          "text": [
            "q0,q1,q2=0000000000, 0000000000, 0000000000\n"
          ]
        }
      ]
    },
    {
      "cell_type": "code",
      "source": [
        "hist = cirq.plot_state_histogram(results, plt.subplot(), title = 'Qubit States', xlabel = 'States', ylabel = 'Occurrences', tick_label=binary_labels(3))\n",
        "\n",
        "plt.show()"
      ],
      "metadata": {
        "id": "wfgzM_jMnRyH",
        "outputId": "d9d9e7a6-fd4b-43d7-e11e-428d6cf6c4af",
        "colab": {
          "base_uri": "https://localhost:8080/",
          "height": 472
        }
      },
      "execution_count": 86,
      "outputs": [
        {
          "output_type": "display_data",
          "data": {
            "text/plain": [
              "<Figure size 640x480 with 1 Axes>"
            ],
            "image/png": "[encoded data removed]"
          },
          "metadata": {}
        }
      ]
    },
    {
      "cell_type": "markdown",
      "source": [
        "###**Problem #3.2**\n",
        "**Together**, simulate the results of your circuit from Problem #2.3 10 times. Then, create a histogram of the final states of the qubits."
      ],
      "metadata": {
        "id": "ZW9OPORQQEO-"
      }
    },
    {
      "cell_type": "code",
      "source": [
        "my_qubits = cirq.NamedQubit.range(2, prefix = 'q')\n",
        "my_circuit = cirq.Circuit()\n",
        "my_circuit.append(cirq.X(my_qubits[0]))\n",
        "my_circuit.append(cirq.H(my_qubits[0]))\n",
        "my_circuit.append(cirq.CNOT(my_qubits[0],my_qubits[1]))\n",
        "my_circuit.append(cirq.measure(my_qubits))\n",
        "print(my_circuit)"
      ],
      "metadata": {
        "id": "F7G6d-lNnYji",
        "outputId": "3d4fcfc2-e5b7-4eee-db87-cca448a6392c",
        "colab": {
          "base_uri": "https://localhost:8080/"
        }
      },
      "execution_count": 98,
      "outputs": [
        {
          "output_type": "stream",
          "name": "stdout",
          "text": [
            "q0: ───X───H───@───M───\n",
            "               │   │\n",
            "q1: ───────────X───M───\n"
          ]
        }
      ]
    },
    {
      "cell_type": "code",
      "source": [
        "sim = cirq.Simulator()\n",
        "results = sim.run(my_circuit, repetitions = 10)\n",
        "print(results)"
      ],
      "metadata": {
        "id": "4p9rCOy0nYfA",
        "outputId": "dc4d87b2-068e-4713-a5f3-47ab0c6b5356",
        "colab": {
          "base_uri": "https://localhost:8080/"
        }
      },
      "execution_count": 99,
      "outputs": [
        {
          "output_type": "stream",
          "name": "stdout",
          "text": [
            "q0,q1=1000110110, 1000110110\n"
          ]
        }
      ]
    },
    {
      "cell_type": "code",
      "source": [
        "hist = cirq.plot_state_histogram(results, plt.subplot(), title = 'Qubit States', xlabel = 'States', ylabel = 'Occurrences', tick_label=binary_labels(2))\n",
        "\n",
        "plt.show()"
      ],
      "metadata": {
        "id": "AQwVrDBGnYB_",
        "outputId": "cb1bdd9c-084d-4d86-d90e-cd884a22cd05",
        "colab": {
          "base_uri": "https://localhost:8080/",
          "height": 472
        }
      },
      "execution_count": 101,
      "outputs": [
        {
          "output_type": "display_data",
          "data": {
            "text/plain": [
              "<Figure size 640x480 with 1 Axes>"
            ],
            "image/png": "[encoded data removed]"
          },
          "metadata": {}
        }
      ]
    },
    {
      "cell_type": "markdown",
      "source": [
        "###**Problem #3.3**\n",
        "**Independently**, repeat Problem #3.2, but with 100 repitions"
      ],
      "metadata": {
        "id": "eFXq-w3nQ29m"
      }
    },
    {
      "cell_type": "code",
      "source": [
        "my_qubits = cirq.NamedQubit.range(2, prefix = 'q')\n",
        "my_circuit = cirq.Circuit()\n",
        "my_circuit.append(cirq.X(my_qubits[0]))\n",
        "my_circuit.append(cirq.H(my_qubits[0]))\n",
        "my_circuit.append(cirq.CNOT(my_qubits[0],my_qubits[1]))\n",
        "my_circuit.append(cirq.measure(my_qubits))\n",
        "print(my_circuit)"
      ],
      "metadata": {
        "id": "wdH2s5BEne-H",
        "outputId": "a0928b46-31a5-4297-eea0-dd0d02e34e9c",
        "colab": {
          "base_uri": "https://localhost:8080/"
        }
      },
      "execution_count": 102,
      "outputs": [
        {
          "output_type": "stream",
          "name": "stdout",
          "text": [
            "q0: ───X───H───@───M───\n",
            "               │   │\n",
            "q1: ───────────X───M───\n"
          ]
        }
      ]
    },
    {
      "cell_type": "code",
      "source": [
        "sim = cirq.Simulator()\n",
        "results = sim.run(my_circuit, repetitions = 100)\n",
        "print(results)"
      ],
      "metadata": {
        "id": "15ECECUcngF0",
        "outputId": "9c6f10e6-9e69-4fc3-a050-ccf8331e4a01",
        "colab": {
          "base_uri": "https://localhost:8080/"
        }
      },
      "execution_count": 112,
      "outputs": [
        {
          "output_type": "stream",
          "name": "stdout",
          "text": [
            "q0,q1=0101110100100110010111000001110110011001011001100001110010000110001111101011100101000110011000110101, 0101110100100110010111000001110110011001011001100001110010000110001111101011100101000110011000110101\n"
          ]
        }
      ]
    },
    {
      "cell_type": "code",
      "source": [
        "hist = cirq.plot_state_histogram(results, plt.subplot(), title = 'Qubit States', xlabel = 'States', ylabel = 'Occurrences', tick_label=binary_labels(2))\n",
        "\n",
        "plt.show()"
      ],
      "metadata": {
        "id": "0z0ewJuYnf96",
        "outputId": "867fec4d-7016-47d9-e2bb-d20e5b4035f4",
        "colab": {
          "base_uri": "https://localhost:8080/",
          "height": 472
        }
      },
      "execution_count": 113,
      "outputs": [
        {
          "output_type": "display_data",
          "data": {
            "text/plain": [
              "<Figure size 640x480 with 1 Axes>"
            ],
            "image/png": "[encoded data removed]"
          },
          "metadata": {}
        }
      ]
    },
    {
      "cell_type": "markdown",
      "source": [
        "###**Problem #3.4**\n",
        "**Independently**, create three qubits. Create an empty quantum circuit. Append an H gate and a measurement to each qubit. Simulate the results of the circuit 100 times. Plot the results on a histogram."
      ],
      "metadata": {
        "id": "mRudgr2ARU5Y"
      }
    },
    {
      "cell_type": "code",
      "source": [
        "my_qubits = cirq.NamedQubit.range(3, prefix = 'q')\n",
        "my_circuit = cirq.Circuit()\n",
        "my_circuit.append(cirq.H.on_each(my_qubits))\n",
        "my_circuit.append(cirq.measure(my_qubits))\n",
        "print(my_circuit)"
      ],
      "metadata": {
        "id": "aeNjTHj9nojV",
        "outputId": "3c9cf140-4339-4eef-db15-e6afb7ef93dd",
        "colab": {
          "base_uri": "https://localhost:8080/"
        }
      },
      "execution_count": 117,
      "outputs": [
        {
          "output_type": "stream",
          "name": "stdout",
          "text": [
            "q0: ───H───M───\n",
            "           │\n",
            "q1: ───H───M───\n",
            "           │\n",
            "q2: ───H───M───\n"
          ]
        }
      ]
    },
    {
      "cell_type": "code",
      "source": [
        "sim = cirq.Simulator()\n",
        "results = sim.run(my_circuit, repetitions = 100)\n",
        "print(results)"
      ],
      "metadata": {
        "id": "y1oQA2QhnoYj",
        "outputId": "45dd8517-85e9-48ed-e08f-1adc428396cc",
        "colab": {
          "base_uri": "https://localhost:8080/"
        }
      },
      "execution_count": 118,
      "outputs": [
        {
          "output_type": "stream",
          "name": "stdout",
          "text": [
            "q0,q1,q2=0111000001101010010010111101010100110101110010001010101011100010101101000110011001110100001011100111, 1011010100101110010001000101001100001111110011000001010010110010011111111100001111010110101010010000, 1100100110001011101101111000001101000110011100011001001001000001000101000110110111000010010011111001\n"
          ]
        }
      ]
    },
    {
      "cell_type": "code",
      "source": [
        "hist = cirq.plot_state_histogram(results, plt.subplot(), title = 'Qubit States', xlabel = 'States', ylabel = 'Occurrences', tick_label=binary_labels(3))\n",
        "\n",
        "plt.show()"
      ],
      "metadata": {
        "id": "_e1kLk6rnoVS",
        "outputId": "2fe6046a-8003-4c98-f789-0cca1f700dc0",
        "colab": {
          "base_uri": "https://localhost:8080/",
          "height": 472
        }
      },
      "execution_count": 121,
      "outputs": [
        {
          "output_type": "display_data",
          "data": {
            "text/plain": [
              "<Figure size 640x480 with 1 Axes>"
            ],
            "image/png": "[encoded data removed]"
          },
          "metadata": {}
        }
      ]
    },
    {
      "cell_type": "markdown",
      "source": [
        "###**Problem #3.5**\n",
        "**Independently**, create a circuit with 3 qubits. Append an H gate the the first qubit. Add a CNOT gate such that the first qubit is the control and the second is the target. Add another CNOT gate such that second qubit is the control and the third is the target. Append a measurement to each qubit. Output your circuit. Simulate the results of your circuit 1000 times. Output the results on a histogram. What is the name of this type of entangled state?"
      ],
      "metadata": {
        "id": "jHfBeLFeTbFa"
      }
    },
    {
      "cell_type": "code",
      "source": [
        "my_qubits = cirq.NamedQubit.range(3, prefix = 'q')\n",
        "my_circuit = cirq.Circuit()\n",
        "my_circuit.append(cirq.H(my_qubits[0]))\n",
        "my_circuit.append(cirq.CNOT(my_qubits[0],my_qubits[1]))\n",
        "my_circuit.append(cirq.CNOT(my_qubits[1],my_qubits[2]))\n",
        "my_circuit.append(cirq.measure(my_qubits))\n",
        "print(my_circuit)"
      ],
      "metadata": {
        "id": "8HeUvKOcnwm_",
        "outputId": "a14fcd7d-a7c6-44ff-8c05-77f6820abf91",
        "colab": {
          "base_uri": "https://localhost:8080/"
        }
      },
      "execution_count": 123,
      "outputs": [
        {
          "output_type": "stream",
          "name": "stdout",
          "text": [
            "q0: ───H───@───────M───\n",
            "           │       │\n",
            "q1: ───────X───@───M───\n",
            "               │   │\n",
            "q2: ───────────X───M───\n"
          ]
        }
      ]
    },
    {
      "cell_type": "code",
      "source": [
        "sim = cirq.Simulator()\n",
        "results = sim.run(my_circuit, repetitions = 100)\n",
        "print(results)"
      ],
      "metadata": {
        "id": "UQy-3-xynwhF",
        "outputId": "81eb599b-2153-4069-cf35-6f738d46e889",
        "colab": {
          "base_uri": "https://localhost:8080/"
        }
      },
      "execution_count": 124,
      "outputs": [
        {
          "output_type": "stream",
          "name": "stdout",
          "text": [
            "q0,q1,q2=0010110001011001001110111111011101101111011111001110011111001001101110110011000010100100111111000100, 0010110001011001001110111111011101101111011111001110011111001001101110110011000010100100111111000100, 0010110001011001001110111111011101101111011111001110011111001001101110110011000010100100111111000100\n"
          ]
        }
      ]
    },
    {
      "cell_type": "code",
      "source": [
        "hist = cirq.plot_state_histogram(results, plt.subplot(), title = 'Qubit States', xlabel = 'States', ylabel = 'Occurrences', tick_label=binary_labels(3))\n",
        "\n",
        "plt.show()"
      ],
      "metadata": {
        "id": "lvFZh0F2nwY0",
        "outputId": "35fd770e-0c91-41b0-f784-2d6b55c86b37",
        "colab": {
          "base_uri": "https://localhost:8080/",
          "height": 472
        }
      },
      "execution_count": 125,
      "outputs": [
        {
          "output_type": "display_data",
          "data": {
            "text/plain": [
              "<Figure size 640x480 with 1 Axes>"
            ],
            "image/png": "[encoded data removed]"
          },
          "metadata": {}
        }
      ]
    },
    {
      "cell_type": "markdown",
      "source": [
        "<a name=\"p5\"></a>\n",
        "\n",
        "---\n",
        "## **Part 4: Additional Practice [OPTIONAL]**\n",
        "---\n"
      ],
      "metadata": {
        "id": "3O86p9YnbxOX"
      }
    },
    {
      "cell_type": "markdown",
      "source": [
        "###**Problem #4.1**\n",
        "**Independently**, create three qubits. Add an H gate to each qubit, and a Z gate to the second. Output your circuit. Add a measurement to each circuit."
      ],
      "metadata": {
        "id": "IbKXRhxCQWYh"
      }
    },
    {
      "cell_type": "code",
      "source": [
        "# COMPLETE THIS CODE"
      ],
      "metadata": {
        "id": "G0SXJL36c0J3"
      },
      "execution_count": null,
      "outputs": []
    },
    {
      "cell_type": "markdown",
      "source": [
        "#####**Solution**"
      ],
      "metadata": {
        "id": "3aAx9jJGciTE"
      }
    },
    {
      "cell_type": "code",
      "source": [
        "my_qubits = cirq.NamedQubit.range( 3, prefix = \"q\")\n",
        "my_circuit = cirq.Circuit()\n",
        "my_circuit.append(cirq.H.on_each(my_qubits))\n",
        "my_circuit.append(cirq.Z(cirq.NamedQubit(\"q1\")))\n",
        "my_circuit.append(cirq.measure(my_qubits))\n",
        "my_circuit"
      ],
      "metadata": {
        "id": "OZYBYGv3Vd6S"
      },
      "execution_count": null,
      "outputs": []
    },
    {
      "cell_type": "markdown",
      "source": [
        "###**Problem #4.2**\n",
        "**Independently**, simulate the results of your circuit from Problem #4.1 100 times. Output the results on a histogram."
      ],
      "metadata": {
        "id": "d0uMlbxrQnom"
      }
    },
    {
      "cell_type": "code",
      "source": [
        "# COMPLETE THIS CODE"
      ],
      "metadata": {
        "id": "Jw4FlpXQc3xO"
      },
      "execution_count": null,
      "outputs": []
    },
    {
      "cell_type": "code",
      "source": [
        "# COMPLETE THIS CODE"
      ],
      "metadata": {
        "id": "6WBMv-_Qc3on"
      },
      "execution_count": null,
      "outputs": []
    },
    {
      "cell_type": "markdown",
      "source": [
        "#####**Solution**"
      ],
      "metadata": {
        "id": "wSDCqfREcnmO"
      }
    },
    {
      "cell_type": "code",
      "source": [
        "sim = cirq.Simulator()\n",
        "result = sim.run(my_circuit, repetitions = 100)"
      ],
      "metadata": {
        "id": "FFDGLTtWV0x1"
      },
      "execution_count": null,
      "outputs": []
    },
    {
      "cell_type": "code",
      "source": [
        "hist = cirq.plot_state_histogram(result, plt.subplot(), title = 'Qubit States', xlabel = 'States', ylabel = 'Occurrences', tick_label=binary_labels(3))\n",
        "\n",
        "plt.show()"
      ],
      "metadata": {
        "id": "Y0gnrQU6V4dO"
      },
      "execution_count": null,
      "outputs": []
    },
    {
      "cell_type": "markdown",
      "source": [
        "###**Problem #4.3**\n",
        "**Independently**, create three qubits. Append an X gate to each qubit.Append an H gate to the second qubit, then a Z gate to the second qubit. Append a measurement to each gate. Output your circuit."
      ],
      "metadata": {
        "id": "7xUl_yi0RJB9"
      }
    },
    {
      "cell_type": "code",
      "source": [
        "# COMPLETE THIS CODE"
      ],
      "metadata": {
        "id": "DiVlEn-5c5al"
      },
      "execution_count": null,
      "outputs": []
    },
    {
      "cell_type": "markdown",
      "source": [
        "#####**Solution**"
      ],
      "metadata": {
        "id": "KKbA3IG6coyn"
      }
    },
    {
      "cell_type": "code",
      "source": [
        "my_qubits = cirq.NamedQubit.range( 3, prefix = \"q\")\n",
        "my_circuit = cirq.Circuit()\n",
        "my_circuit.append(cirq.X.on_each(my_qubits))\n",
        "my_circuit.append(cirq.H(cirq.NamedQubit(\"q1\")))\n",
        "my_circuit.append(cirq.Z(cirq.NamedQubit(\"q1\")))\n",
        "my_circuit.append(cirq.measure(my_qubits))\n",
        "my_circuit"
      ],
      "metadata": {
        "id": "tpMEBKxwWBv_"
      },
      "execution_count": null,
      "outputs": []
    },
    {
      "cell_type": "markdown",
      "source": [
        "###**Problem #4.4**\n",
        "**Independently**, Simulate the results of your circuit 100 times. Plot the results on a histogram."
      ],
      "metadata": {
        "id": "h4NW3cZ9SOKB"
      }
    },
    {
      "cell_type": "code",
      "source": [
        "# COMPLETE THIS CODE"
      ],
      "metadata": {
        "id": "VW4ScD4uc6Sn"
      },
      "execution_count": null,
      "outputs": []
    },
    {
      "cell_type": "code",
      "source": [
        "# COMPLETE THIS CODE"
      ],
      "metadata": {
        "id": "FPdkECkOc6Od"
      },
      "execution_count": null,
      "outputs": []
    },
    {
      "cell_type": "markdown",
      "source": [
        "#####**Solution**"
      ],
      "metadata": {
        "id": "_6J1GANbcp_A"
      }
    },
    {
      "cell_type": "code",
      "source": [
        "sim = cirq.Simulator()\n",
        "result = sim.run(my_circuit, repetitions = 100)"
      ],
      "metadata": {
        "id": "dDJXTJPRWDci"
      },
      "execution_count": null,
      "outputs": []
    },
    {
      "cell_type": "code",
      "source": [
        "hist = cirq.plot_state_histogram(result, plt.subplot(), title = 'Qubit States', xlabel = 'States', ylabel = 'Occurrences', tick_label=binary_labels(3))\n",
        "\n",
        "plt.show()"
      ],
      "metadata": {
        "id": "lvc8B-PkWDT4"
      },
      "execution_count": null,
      "outputs": []
    },
    {
      "cell_type": "markdown",
      "source": [
        "###**Problem #4.5**\n",
        "**Independently**, create two qubits. Append the first to a circuit using an X gate. Append the second to the circuit using an H gate, then a Z gate. Next append a CNOT gate such that the second qubit is the target qubit and the first is the control qubit. Finally, add a measurement to each qubit. Output your circuit."
      ],
      "metadata": {
        "id": "zuNyXFv6Scuh"
      }
    },
    {
      "cell_type": "code",
      "source": [
        "# COMPLETE THIS CODE"
      ],
      "metadata": {
        "id": "8QeX3g0Sc7-R"
      },
      "execution_count": null,
      "outputs": []
    },
    {
      "cell_type": "markdown",
      "source": [
        "#####**Solution**"
      ],
      "metadata": {
        "id": "4E6AH2VrcrKX"
      }
    },
    {
      "cell_type": "code",
      "source": [
        "my_qubits = cirq.NamedQubit.range( 2, prefix = \"q\")\n",
        "my_circuit = cirq.Circuit()\n",
        "my_circuit.append(cirq.X(cirq.NamedQubit(\"q0\")))\n",
        "my_circuit.append(cirq.H(cirq.NamedQubit(\"q1\")))\n",
        "my_circuit.append(cirq.Z(cirq.NamedQubit(\"q1\")))\n",
        "my_circuit.append(cirq.CNOT(cirq.NamedQubit(\"q0\"), cirq.NamedQubit(\"q1\")))\n",
        "my_circuit.append(cirq.measure(my_qubits))\n",
        "my_circuit"
      ],
      "metadata": {
        "id": "JctzQN41WZ38"
      },
      "execution_count": null,
      "outputs": []
    },
    {
      "cell_type": "markdown",
      "source": [
        "###**Problem #4.6**\n",
        "**Independently**, simulate the results of your circuit 100 times. Plot the histogram."
      ],
      "metadata": {
        "id": "YO5m13jQTCb_"
      }
    },
    {
      "cell_type": "code",
      "source": [
        "# COMPLETE THIS CODE"
      ],
      "metadata": {
        "id": "-ugB69f1c-QF"
      },
      "execution_count": null,
      "outputs": []
    },
    {
      "cell_type": "code",
      "source": [
        "# COMPLETE THIS CODE"
      ],
      "metadata": {
        "id": "BfCvVigtc-JC"
      },
      "execution_count": null,
      "outputs": []
    },
    {
      "cell_type": "markdown",
      "source": [
        "#####**Solution**"
      ],
      "metadata": {
        "id": "LI7ASELVcsaK"
      }
    },
    {
      "cell_type": "code",
      "source": [
        "sim = cirq.Simulator()\n",
        "result = sim.run(my_circuit, repetitions = 100)"
      ],
      "metadata": {
        "id": "uB7CsqTeWaeo"
      },
      "execution_count": null,
      "outputs": []
    },
    {
      "cell_type": "code",
      "source": [
        "hist = cirq.plot_state_histogram(result, plt.subplot(), title = 'Qubit States', xlabel = 'States', ylabel = 'Occurrences', tick_label=binary_labels(2))\n",
        "\n",
        "plt.show()"
      ],
      "metadata": {
        "id": "JBN4VkbvWaXp"
      },
      "execution_count": null,
      "outputs": []
    },
    {
      "cell_type": "markdown",
      "source": [
        "###**Problem #4.7**\n",
        "**Independently**, create a two qubits. Append the second qubit to the circuit using an X gate. Next, add a CNOT gate such that the first qubit is the target qubit and the second qubit is the control qubit. Append a measurement to both qubits. Output your circuit."
      ],
      "metadata": {
        "id": "iGOWNhGmTN7l"
      }
    },
    {
      "cell_type": "code",
      "source": [
        "# COMPLETE THIS CODE"
      ],
      "metadata": {
        "id": "mZg7ywGZc_ng"
      },
      "execution_count": null,
      "outputs": []
    },
    {
      "cell_type": "markdown",
      "source": [
        "#####**Solution**"
      ],
      "metadata": {
        "id": "CBJF-Z83cugf"
      }
    },
    {
      "cell_type": "code",
      "source": [
        "my_qubits = cirq.NamedQubit.range( 2, prefix = \"q\")\n",
        "my_circuit = cirq.Circuit()\n",
        "my_circuit.append(cirq.X(cirq.NamedQubit(\"q1\")))\n",
        "my_circuit.append(cirq.CNOT(cirq.NamedQubit(\"q1\"), cirq.NamedQubit(\"q0\")))\n",
        "my_circuit.append(cirq.measure(my_qubits))\n",
        "my_circuit"
      ],
      "metadata": {
        "id": "T14gMZjaZZD0"
      },
      "execution_count": null,
      "outputs": []
    },
    {
      "cell_type": "markdown",
      "source": [
        "###**Problem #4.8**\n",
        "**Independently**, simulate the results of your circuit 100 times. Plot the histogram."
      ],
      "metadata": {
        "id": "slcvbXS2U2Gp"
      }
    },
    {
      "cell_type": "code",
      "source": [
        "# COMPLETE THIS CODE"
      ],
      "metadata": {
        "id": "JM5_JrgIdAnz"
      },
      "execution_count": null,
      "outputs": []
    },
    {
      "cell_type": "code",
      "source": [
        "# COMPLETE THIS CODE"
      ],
      "metadata": {
        "id": "iQK6ZFdndAgX"
      },
      "execution_count": null,
      "outputs": []
    },
    {
      "cell_type": "markdown",
      "source": [
        "#####**Solution**"
      ],
      "metadata": {
        "id": "5BaednAscviT"
      }
    },
    {
      "cell_type": "code",
      "source": [
        "sim = cirq.Simulator()\n",
        "result = sim.run(my_circuit, repetitions = 100)"
      ],
      "metadata": {
        "id": "mQULxWFzZuWR"
      },
      "execution_count": null,
      "outputs": []
    },
    {
      "cell_type": "code",
      "source": [
        "hist = cirq.plot_state_histogram(result, plt.subplot(), title = 'Qubit States', xlabel = 'States', ylabel = 'Occurrences', tick_label=binary_labels(2))\n",
        "\n",
        "plt.show()"
      ],
      "metadata": {
        "id": "h_p4ZsWhZxbT"
      },
      "execution_count": null,
      "outputs": []
    },
    {
      "cell_type": "markdown",
      "source": [
        "###**Problem #4.9**\n",
        "**Independently**, create two qubits. Append the first qubit to the circuit using an H gate. Append the second qubit to the circuit using an X gate. Add a CNOT gate to the circuit such the the second qubit is the target and the first is the control. Append a measurement to each qubit. Output your circuit."
      ],
      "metadata": {
        "id": "uAAcWgppT575"
      }
    },
    {
      "cell_type": "code",
      "source": [
        "# COMPLETE THIS CODE"
      ],
      "metadata": {
        "id": "e4bP-SERdB5n"
      },
      "execution_count": null,
      "outputs": []
    },
    {
      "cell_type": "markdown",
      "source": [
        "#####**Solution**"
      ],
      "metadata": {
        "id": "K_wqRc_Kcw4K"
      }
    },
    {
      "cell_type": "code",
      "source": [
        "my_qubits = cirq.NamedQubit.range( 2, prefix = \"q\")\n",
        "my_circuit = cirq.Circuit()\n",
        "my_circuit.append(cirq.H(cirq.NamedQubit(\"q0\")))\n",
        "my_circuit.append(cirq.X(cirq.NamedQubit(\"q1\")))\n",
        "my_circuit.append(cirq.CNOT(cirq.NamedQubit(\"q0\"), cirq.NamedQubit(\"q1\")))\n",
        "my_circuit.append(cirq.measure(my_qubits))\n",
        "my_circuit"
      ],
      "metadata": {
        "id": "-hM8V3XmZ3QT"
      },
      "execution_count": null,
      "outputs": []
    },
    {
      "cell_type": "markdown",
      "source": [
        "###**Problem #4.10**\n",
        "**Independently**, simulate the results of your circuit 100 times. Plot the histogram."
      ],
      "metadata": {
        "id": "nRYyCZDmU4X_"
      }
    },
    {
      "cell_type": "code",
      "source": [
        "# COMPLETE THIS CODE"
      ],
      "metadata": {
        "id": "ZlznP2FydC6s"
      },
      "execution_count": null,
      "outputs": []
    },
    {
      "cell_type": "code",
      "source": [
        "# COMPLETE THIS CODE"
      ],
      "metadata": {
        "id": "_xW6X8qcdCzR"
      },
      "execution_count": null,
      "outputs": []
    },
    {
      "cell_type": "markdown",
      "source": [
        "#####**Solution**"
      ],
      "metadata": {
        "id": "7KfWFZJRcyDv"
      }
    },
    {
      "cell_type": "code",
      "source": [
        "sim = cirq.Simulator()\n",
        "result = sim.run(my_circuit, repetitions = 100)"
      ],
      "metadata": {
        "id": "6S5s721CaQuW"
      },
      "execution_count": null,
      "outputs": []
    },
    {
      "cell_type": "code",
      "source": [
        "hist = cirq.plot_state_histogram(result, plt.subplot(), title = 'Qubit States', xlabel = 'States', ylabel = 'Occurrences', tick_label=binary_labels(2))\n",
        "\n",
        "plt.show()"
      ],
      "metadata": {
        "id": "GiIoM1azaQmg"
      },
      "execution_count": null,
      "outputs": []
    },
    {
      "cell_type": "markdown",
      "source": [
        "#End of notebook\n",
        "---\n",
        "© 2023 The Coding School, All rights reserved"
      ],
      "metadata": {
        "id": "ikaAqJ11bWfM"
      }
    }
  ]
}